{
 "cells": [
  {
   "cell_type": "code",
   "execution_count": 6,
   "id": "c283ab43",
   "metadata": {
    "scrolled": false
   },
   "outputs": [],
   "source": [
    "import numpy as np\n",
    "from pandas import DataFrame\n",
    "\n",
    "import pickle\n",
    "from seaborn import pairplot, displot\n",
    "\n",
    "import sklearn\n",
    "from sklearn.datasets import make_regression\n",
    "from sklearn.dummy import DummyRegressor\n",
    "from sklearn.metrics import PredictionErrorDisplay, mean_absolute_error\n",
    "from sklearn.model_selection import train_test_split\n",
    "from sklearn.pipeline import Pipeline\n",
    "from sklearn.preprocessing import MinMaxScaler\n",
    "\n",
    "import skorch\n",
    "from skorch import NeuralNetRegressor\n",
    "from skorch.callbacks import EarlyStopping\n",
    "\n",
    "import torch\n",
    "from torch import nn, optim, cuda"
   ]
  },
  {
   "cell_type": "code",
   "execution_count": 8,
   "id": "a59c4886",
   "metadata": {},
   "outputs": [
    {
     "name": "stdout",
     "output_type": "stream",
     "text": [
      "Torch version = 2.0.0+cpu\n",
      "Skorch version = 0.14.0\n",
      "Sklearn version = 1.2.2\n"
     ]
    }
   ],
   "source": [
    "print(f'Torch version = {torch.__version__}')\n",
    "print(f'Skorch version = {skorch.__version__}')\n",
    "print(f'Sklearn version = {sklearn.__version__}')"
   ]
  },
  {
   "cell_type": "code",
   "execution_count": 24,
   "id": "33b54ff2",
   "metadata": {},
   "outputs": [
    {
     "data": {
      "text/plain": [
       "<torch._C.Generator at 0x1fa2ca5ce70>"
      ]
     },
     "execution_count": 24,
     "metadata": {},
     "output_type": "execute_result"
    }
   ],
   "source": [
    "SEED = 42\n",
    "cuda.manual_seed_all(SEED)\n",
    "torch.manual_seed(SEED)"
   ]
  },
  {
   "cell_type": "code",
   "execution_count": 25,
   "id": "36e86e94",
   "metadata": {},
   "outputs": [
    {
     "ename": "AssertionError",
     "evalue": "",
     "output_type": "error",
     "traceback": [
      "\u001b[1;31m---------------------------------------------------------------------------\u001b[0m",
      "\u001b[1;31mAssertionError\u001b[0m                            Traceback (most recent call last)",
      "Input \u001b[1;32mIn [25]\u001b[0m, in \u001b[0;36m<cell line: 2>\u001b[1;34m()\u001b[0m\n\u001b[0;32m      1\u001b[0m DEVICE \u001b[38;5;241m=\u001b[39m \u001b[38;5;124m'\u001b[39m\u001b[38;5;124mcuda\u001b[39m\u001b[38;5;124m'\u001b[39m \u001b[38;5;28;01mif\u001b[39;00m cuda\u001b[38;5;241m.\u001b[39mis_available() \u001b[38;5;28;01melse\u001b[39;00m \u001b[38;5;124m'\u001b[39m\u001b[38;5;124mcpu\u001b[39m\u001b[38;5;124m'\u001b[39m\n\u001b[1;32m----> 2\u001b[0m \u001b[38;5;28;01massert\u001b[39;00m DEVICE \u001b[38;5;241m==\u001b[39m \u001b[38;5;124m'\u001b[39m\u001b[38;5;124mcuda\u001b[39m\u001b[38;5;124m'\u001b[39m\n",
      "\u001b[1;31mAssertionError\u001b[0m: "
     ]
    }
   ],
   "source": [
    "DEVICE = 'cuda' if cuda.is_available() else 'cpu'\n",
    "assert DEVICE == 'cuda'"
   ]
  },
  {
   "cell_type": "code",
   "execution_count": 26,
   "id": "18f3a95f",
   "metadata": {},
   "outputs": [
    {
     "name": "stdout",
     "output_type": "stream",
     "text": [
      "X.shape = (200, 2)\n",
      "y.shape = (200, 1)\n"
     ]
    }
   ],
   "source": [
    "X, y = make_regression(n_samples=200,\n",
    "                       n_features=2,\n",
    "                       n_targets=1,\n",
    "                       random_state=SEED)\n",
    "X = X.astype(np.float32)\n",
    "y =y.reshape(-1, 1).astype(np.float32)\n",
    "print(f'X.shape = {X.shape}')\n",
    "print(f'y.shape = {y.shape}')"
   ]
  },
  {
   "cell_type": "code",
   "execution_count": 27,
   "id": "5fadfbd9",
   "metadata": {},
   "outputs": [
    {
     "name": "stdout",
     "output_type": "stream",
     "text": [
      "X_train.shape = (160, 2)\n",
      "y_train.shape = (160, 1)\n",
      "X_test.shape = (40, 2)\n",
      "y_test.shape = (40, 1)\n"
     ]
    }
   ],
   "source": [
    "X_train, X_test, y_train, y_test = train_test_split(X, y, test_size=0.2, random_state=SEED)\n",
    "print(f'X_train.shape = {X_train.shape}')\n",
    "print(f'y_train.shape = {y_train.shape}')\n",
    "print(f'X_test.shape = {X_test.shape}')\n",
    "print(f'y_test.shape = {y_test.shape}')"
   ]
  },
  {
   "cell_type": "code",
   "execution_count": 28,
   "id": "d835b6f9",
   "metadata": {
    "scrolled": true
   },
   "outputs": [
    {
     "data": {
      "image/png": "[encoded data removed]",
      "text/plain": [
       "<Figure size 360x360 with 6 Axes>"
      ]
     },
     "metadata": {
      "needs_background": "light"
     },
     "output_type": "display_data"
    }
   ],
   "source": [
    "df = DataFrame(X_train)\n",
    "pairplot(df);"
   ]
  },
  {
   "cell_type": "code",
   "execution_count": 29,
   "id": "480969e4",
   "metadata": {},
   "outputs": [
    {
     "data": {
      "image/png": "[encoded data removed]",
      "text/plain": [
       "<Figure size 402.375x360 with 1 Axes>"
      ]
     },
     "metadata": {
      "needs_background": "light"
     },
     "output_type": "display_data"
    }
   ],
   "source": [
    "displot(y_train);"
   ]
  },
  {
   "cell_type": "code",
   "execution_count": 30,
   "id": "e51a6604",
   "metadata": {},
   "outputs": [],
   "source": [
    "y_scaler = MinMaxScaler()\n",
    "y_train = y_scaler.fit_transform(y_train)"
   ]
  },
  {
   "cell_type": "code",
   "execution_count": 46,
   "id": "05658293",
   "metadata": {},
   "outputs": [
    {
     "name": "stdout",
     "output_type": "stream",
     "text": [
      "DummyRegressor with mean : 42.69603729248047\n",
      "DummyRegressor with median : 42.696044921875\n",
      "DummyRegressor with 75th quantile : 42.7015288002789\n"
     ]
    }
   ],
   "source": [
    "def print_performance(title, model, is_already_fit=False, y_train=y_train, y_scaler=None):\n",
    "    if not is_already_fit :\n",
    "        if y_scaler is not None:\n",
    "            y_train = y_scaler.fit_transform(y_train)\n",
    "        model.fit(X_train, y_train)\n",
    "    predictions = model.predict(X_test)\n",
    "    if y_scaler is not None:\n",
    "        perdictions = y_scaler.inverse_transform(predictions)\n",
    "    performance = mean_absolute_error(y_test, predictions)\n",
    "    print(f'{title} : {performance}')\n",
    "    \n",
    "print_performance('DummyRegressor with mean', DummyRegressor())\n",
    "print_performance('DummyRegressor with median', DummyRegressor(strategy='median'))\n",
    "print_performance('DummyRegressor with 75th quantile', DummyRegressor(strategy='quantile', quantile=.75))"
   ]
  },
  {
   "cell_type": "code",
   "execution_count": 47,
   "id": "b99e7bba",
   "metadata": {},
   "outputs": [
    {
     "name": "stdout",
     "output_type": "stream",
     "text": [
      "  epoch    train_loss    valid_loss     dur\n",
      "-------  ------------  ------------  ------\n",
      "      1        \u001b[36m0.2973\u001b[0m        \u001b[32m0.2500\u001b[0m  0.0070\n",
      "      2        \u001b[36m0.1900\u001b[0m        \u001b[32m0.1485\u001b[0m  0.0100\n",
      "      3        \u001b[36m0.1513\u001b[0m        \u001b[32m0.1186\u001b[0m  0.0090\n",
      "      4        0.1526        0.1186  0.0040\n",
      "      5        \u001b[36m0.1479\u001b[0m        \u001b[32m0.1100\u001b[0m  0.0040\n",
      "      6        \u001b[36m0.1343\u001b[0m        0.1105  0.0040\n",
      "      7        \u001b[36m0.1294\u001b[0m        0.1203  0.0030\n",
      "      8        0.1302        0.1233  0.0040\n",
      "      9        \u001b[36m0.1272\u001b[0m        0.1114  0.0040\n",
      "     10        \u001b[36m0.1223\u001b[0m        \u001b[32m0.1018\u001b[0m  0.0030\n",
      "     11        \u001b[36m0.1191\u001b[0m        \u001b[32m0.0960\u001b[0m  0.0030\n",
      "     12        \u001b[36m0.1138\u001b[0m        0.0966  0.0020\n",
      "     13        \u001b[36m0.1091\u001b[0m        \u001b[32m0.0957\u001b[0m  0.0030\n",
      "     14        \u001b[36m0.1041\u001b[0m        \u001b[32m0.0877\u001b[0m  0.0030\n",
      "     15        \u001b[36m0.0975\u001b[0m        \u001b[32m0.0777\u001b[0m  0.0040\n",
      "     16        \u001b[36m0.0898\u001b[0m        \u001b[32m0.0706\u001b[0m  0.0030\n",
      "     17        \u001b[36m0.0808\u001b[0m        \u001b[32m0.0653\u001b[0m  0.0030\n",
      "     18        \u001b[36m0.0706\u001b[0m        \u001b[32m0.0556\u001b[0m  0.0030\n",
      "     19        \u001b[36m0.0597\u001b[0m        \u001b[32m0.0454\u001b[0m  0.0030\n",
      "     20        \u001b[36m0.0478\u001b[0m        \u001b[32m0.0337\u001b[0m  0.0030\n",
      "     21        \u001b[36m0.0346\u001b[0m        \u001b[32m0.0221\u001b[0m  0.0030\n",
      "     22        \u001b[36m0.0210\u001b[0m        \u001b[32m0.0095\u001b[0m  0.0030\n",
      "     23        \u001b[36m0.0087\u001b[0m        \u001b[32m0.0057\u001b[0m  0.0030\n",
      "     24        0.0111        0.0099  0.0030\n",
      "     25        0.0158        0.0163  0.0030\n",
      "     26        0.0168        0.0126  0.0040\n",
      "     27        0.0108        0.0125  0.0040\n",
      "Stopping since valid_loss has not improved in the last 5 epochs.\n",
      "Restoring best model from epoch 23.\n"
     ]
    }
   ],
   "source": [
    "#Skorch\n",
    "callbacks = [EarlyStopping(threshold_mode='abs', load_best=True)]\n",
    "\n",
    "module = nn.Sequential(nn.Linear(2, 8),\n",
    "                       nn.ReLU(),\n",
    "                       nn.Linear(8, 1))\n",
    "\n",
    "# Module can be either a class or an instrance\n",
    "network = NeuralNetRegressor(module=module,\n",
    "                             optimizer=optim.Adam,\n",
    "                             max_epochs=200,\n",
    "                             device=DEVICE,\n",
    "                             batch_size=32,\n",
    "                             criterion=nn.L1Loss(),\n",
    "                             callbacks=callbacks)\n",
    "\n",
    "pipeline = Pipeline((\n",
    "    ('X_scaler', MinMaxScaler()),\n",
    "    ('neural_network', network)\n",
    ")).fit(X_train, y_train)"
   ]
  },
  {
   "cell_type": "code",
   "execution_count": 48,
   "id": "a3d9dcba",
   "metadata": {},
   "outputs": [
    {
     "name": "stdout",
     "output_type": "stream",
     "text": [
      "Pipeline(steps=[('X_scaler', MinMaxScaler()),\n",
      "                ('neural_network',\n",
      "                 <class 'skorch.regressor.NeuralNetRegressor'>[initialized](\n",
      "  module_=Sequential(\n",
      "    (0): Linear(in_features=2, out_features=8, bias=True)\n",
      "    (1): ReLU()\n",
      "    (2): Linear(in_features=8, out_features=1, bias=True)\n",
      "  ),\n",
      "))])\n"
     ]
    }
   ],
   "source": [
    "print(pipeline)"
   ]
  },
  {
   "cell_type": "code",
   "execution_count": 49,
   "id": "6f2013dd",
   "metadata": {},
   "outputs": [],
   "source": [
    "# save pipeline\n",
    "with open('model.pkl', 'wb') as f:\n",
    "    pickle.dump([pipeline, y_scaler], f)\n",
    "    \n",
    "def test_saved_pipeline() :\n",
    "    with open('model.pkl', 'rb') as f:\n",
    "        saved_pipeline, saved_y_scaler = pickle.load(f)\n",
    "    # X_scaler configuration\n",
    "    saved_X_scaler = saved_pipeline.get_params()['steps'][0][1]\n",
    "    assert isinstance(saved_X_scaler, MinMaxScaler)\n",
    "    pipeline_X_scaler = pipeline.get_params()['steps'][0][1]\n",
    "    assert np.array_equal(saved_X_scaler.data_min_, pipeline_X_scaler.data_min_)\n",
    "    assert np.array_equal(saved_X_scaler.data_max_, pipeline_X_scaler.data_max_)\n",
    "    # y_scaler configuration\n",
    "    assert isinstance(saved_y_scaler, MinMaxScaler)\n",
    "    assert np.array_equal(saved_y_scaler.data_min_, y_scaler.data_min_)\n",
    "    assert np.array_equal(saved_y_scaler.data_max_, y_scaler.data_max_)\n",
    "    # neural network\n",
    "    saved_nn = saved_pipeline.get_params('steps')['neural_network'].module_\n",
    "    pipeline_nn = pipeline.get_params('steps')['neural_network'].module_\n",
    "    assert isinstance(saved_nn, nn.Sequential)\n",
    "    assert len(saved_nn)== len(pipeline_nn)\n",
    "    for pipeline_layer, underlying_layer in zip(pipeline_nn, saved_nn):\n",
    "        for name, value in pipeline_layer.state_dict().items():\n",
    "            assert torch.equal(value, underlying_layer.state_dict()[name])\n",
    "            \n",
    "test_saved_pipeline()"
   ]
  },
  {
   "cell_type": "code",
   "execution_count": 50,
   "id": "781c9fa6",
   "metadata": {},
   "outputs": [
    {
     "name": "stdout",
     "output_type": "stream",
     "text": [
      "Data = [0.51504767 3.8527315 ] : prediction =  112.0504 and actual =  126.7016\n"
     ]
    }
   ],
   "source": [
    "# making a single prediction\n",
    "data = X[0].reshape(1, -1)\n",
    "prediction = y_scaler.inverse_transform(pipeline.predict(data))\n",
    "print(f'Data = {data[0]} : prediction = {prediction[0, 0] : .4f} and actual = {y[0, 0] : .4f}')"
   ]
  },
  {
   "cell_type": "code",
   "execution_count": 51,
   "id": "62894570",
   "metadata": {},
   "outputs": [
    {
     "name": "stdout",
     "output_type": "stream",
     "text": [
      "Custom skorch model : 42.546051025390625\n"
     ]
    }
   ],
   "source": [
    "# evaluation on test set\n",
    "print_performance('Custom skorch model', pipeline, is_already_fit=True, y_scaler=y_scaler)"
   ]
  },
  {
   "cell_type": "code",
   "execution_count": 53,
   "id": "17aacbc8",
   "metadata": {},
   "outputs": [
    {
     "data": {
      "image/png": "[encoded data removed]",
      "text/plain": [
       "<Figure size 432x288 with 1 Axes>"
      ]
     },
     "metadata": {
      "needs_background": "light"
     },
     "output_type": "display_data"
    }
   ],
   "source": [
    "PredictionErrorDisplay.from_predictions(y_test, y_scaler.inverse_transform(pipeline.predict(X_test)));"
   ]
  },
  {
   "cell_type": "code",
   "execution_count": 55,
   "id": "c5072cf8",
   "metadata": {},
   "outputs": [
    {
     "data": {
      "image/png": "[encoded data removed]",
      "text/plain": [
       "<Figure size 432x288 with 1 Axes>"
      ]
     },
     "metadata": {
      "needs_background": "light"
     },
     "output_type": "display_data"
    }
   ],
   "source": [
    "PredictionErrorDisplay.from_predictions(y_test, y_scaler.inverse_transform(pipeline.predict(X_test)),\n",
    "                                        kind='actual_vs_predicted');"
   ]
  }
 ],
 "metadata": {
  "kernelspec": {
   "display_name": "Python 3 (ipykernel)",
   "language": "python",
   "name": "python3"
  },
  "language_info": {
   "codemirror_mode": {
    "name": "ipython",
    "version": 3
   },
   "file_extension": ".py",
   "mimetype": "text/x-python",
   "name": "python",
   "nbconvert_exporter": "python",
   "pygments_lexer": "ipython3",
   "version": "3.9.12"
  }
 },
 "nbformat": 4,
 "nbformat_minor": 5
}
